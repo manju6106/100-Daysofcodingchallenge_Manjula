{
 "cells": [
  {
   "cell_type": "markdown",
   "id": "1ebf4a1c",
   "metadata": {},
   "source": [
    "## Step 1: Setting Up Your Environment\n",
    "#### Ensure you have Python, Pandas, and Matplotlib installed in your environment. You can install Pandas and Matplotlib using pip if you haven't already:"
   ]
  },
  {
   "cell_type": "code",
   "execution_count": 1,
   "id": "2875185a",
   "metadata": {},
   "outputs": [
    {
     "name": "stdout",
     "output_type": "stream",
     "text": [
      "Requirement already satisfied: pandas in c:\\users\\godsg\\documents\\custom office templates\\lib\\site-packages (2.1.1)\n",
      "Requirement already satisfied: matplotlib in c:\\users\\godsg\\documents\\custom office templates\\lib\\site-packages (3.7.0)\n",
      "Requirement already satisfied: python-dateutil>=2.8.2 in c:\\users\\godsg\\documents\\custom office templates\\lib\\site-packages (from pandas) (2.8.2)\n",
      "Requirement already satisfied: numpy>=1.22.4 in c:\\users\\godsg\\documents\\custom office templates\\lib\\site-packages (from pandas) (1.23.5)\n",
      "Requirement already satisfied: pytz>=2020.1 in c:\\users\\godsg\\documents\\custom office templates\\lib\\site-packages (from pandas) (2022.7)\n",
      "Requirement already satisfied: tzdata>=2022.1 in c:\\users\\godsg\\documents\\custom office templates\\lib\\site-packages (from pandas) (2023.3)\n",
      "Requirement already satisfied: pyparsing>=2.3.1 in c:\\users\\godsg\\documents\\custom office templates\\lib\\site-packages (from matplotlib) (3.0.9)\n",
      "Requirement already satisfied: fonttools>=4.22.0 in c:\\users\\godsg\\documents\\custom office templates\\lib\\site-packages (from matplotlib) (4.25.0)\n",
      "Requirement already satisfied: pillow>=6.2.0 in c:\\users\\godsg\\documents\\custom office templates\\lib\\site-packages (from matplotlib) (9.4.0)\n",
      "Requirement already satisfied: packaging>=20.0 in c:\\users\\godsg\\documents\\custom office templates\\lib\\site-packages (from matplotlib) (22.0)\n",
      "Requirement already satisfied: kiwisolver>=1.0.1 in c:\\users\\godsg\\documents\\custom office templates\\lib\\site-packages (from matplotlib) (1.4.4)\n",
      "Requirement already satisfied: cycler>=0.10 in c:\\users\\godsg\\documents\\custom office templates\\lib\\site-packages (from matplotlib) (0.11.0)\n",
      "Requirement already satisfied: contourpy>=1.0.1 in c:\\users\\godsg\\documents\\custom office templates\\lib\\site-packages (from matplotlib) (1.0.5)\n",
      "Requirement already satisfied: six>=1.5 in c:\\users\\godsg\\documents\\custom office templates\\lib\\site-packages (from python-dateutil>=2.8.2->pandas) (1.16.0)\n",
      "Note: you may need to restart the kernel to use updated packages.\n"
     ]
    }
   ],
   "source": [
    "pip install pandas matplotlib"
   ]
  },
  {
   "cell_type": "markdown",
   "id": "e8610695",
   "metadata": {},
   "source": [
    "## Step 2: Creating the Dataset\n",
    "#### Start by creating a simple dataset. In a Python script or a Jupyter Notebook, initialize the dataset as follows:"
   ]
  },
  {
   "cell_type": "code",
   "execution_count": 2,
   "id": "a75b8dda",
   "metadata": {},
   "outputs": [],
   "source": [
    "import pandas as pd\n",
    "\n",
    "# Data\n",
    "data = {\n",
    "    \"Fruit\": [\"Apples\", \"Oranges\", \"Bananas\", \"Strawberries\", \"Grapes\"],\n",
    "    \"Price\": [1.5, 2.0, 0.8, 3.0, 2.5],\n",
    "    \"Quantity\": [20, 33, 45, 12, 40]\n",
    "}\n",
    "\n",
    "# Creating a DataFrame\n",
    "df = pd.DataFrame(data)"
   ]
  },
  {
   "cell_type": "markdown",
   "id": "cc01222d",
   "metadata": {},
   "source": [
    "## Step 3: Basic Data Manipulation\n",
    "#### Perform some basic manipulations on your DataFrame. For example, you can calculate the total value (price * quantity) for each fruit"
   ]
  },
  {
   "cell_type": "code",
   "execution_count": 3,
   "id": "460bc0a0",
   "metadata": {},
   "outputs": [
    {
     "name": "stdout",
     "output_type": "stream",
     "text": [
      "          Fruit  Price  Quantity  Total Value\n",
      "0        Apples    1.5        20         30.0\n",
      "1       Oranges    2.0        33         66.0\n",
      "2       Bananas    0.8        45         36.0\n",
      "3  Strawberries    3.0        12         36.0\n",
      "4        Grapes    2.5        40        100.0\n"
     ]
    }
   ],
   "source": [
    "# Calculating total value\n",
    "df['Total Value'] = df['Price'] * df['Quantity']\n",
    "print(df)"
   ]
  },
  {
   "cell_type": "markdown",
   "id": "fb96d6c6",
   "metadata": {},
   "source": [
    "## Step 4: Simple Data Analysis\n",
    "#### Analyze the data to find which fruit has the highest total value in the market."
   ]
  },
  {
   "cell_type": "code",
   "execution_count": 6,
   "id": "22ec6f63",
   "metadata": {},
   "outputs": [
    {
     "name": "stdout",
     "output_type": "stream",
     "text": [
      "The fruit with the highest total value is: Grapes\n"
     ]
    }
   ],
   "source": [
    "# Finding the fruit with the highest total value\n",
    "max_value_fruit = df.loc[df['Total Value'].idxmax()]\n",
    "print(f\"The fruit with the highest total value is: {max_value_fruit['Fruit']}\")"
   ]
  },
  {
   "cell_type": "markdown",
   "id": "34673b5e",
   "metadata": {},
   "source": [
    "## Step 5: Data Visualization\n",
    "#### Use Matplotlib to create a bar chart showing the quantity available for each fruit."
   ]
  },
  {
   "cell_type": "code",
   "execution_count": 5,
   "id": "f86ac10e",
   "metadata": {},
   "outputs": [
    {
     "data": {
      "image/png": "[encoded data removed]",
      "text/plain": [
       "<Figure size 800x400 with 1 Axes>"
      ]
     },
     "metadata": {},
     "output_type": "display_data"
    }
   ],
   "source": [
    "import matplotlib.pyplot as plt\n",
    "\n",
    "# Setting up the plot\n",
    "plt.figure(figsize=(8, 4))\n",
    "plt.bar(df['Fruit'], df['Quantity'], color='skyblue')\n",
    "\n",
    "# Adding titles and labels\n",
    "plt.title('Quantity of Fruits in the Market')\n",
    "plt.xlabel('Fruit')\n",
    "plt.ylabel('Quantity')\n",
    "\n",
    "# Displaying the plot\n",
    "plt.show()"
   ]
  },
  {
   "cell_type": "code",
   "execution_count": null,
   "id": "b2990073",
   "metadata": {},
   "outputs": [],
   "source": []
  }
 ],
 "metadata": {
  "kernelspec": {
   "display_name": "Python 3 (ipykernel)",
   "language": "python",
   "name": "python3"
  },
  "language_info": {
   "codemirror_mode": {
    "name": "ipython",
    "version": 3
   },
   "file_extension": ".py",
   "mimetype": "text/x-python",
   "name": "python",
   "nbconvert_exporter": "python",
   "pygments_lexer": "ipython3",
   "version": "3.10.9"
  }
 },
 "nbformat": 4,
 "nbformat_minor": 5
}
